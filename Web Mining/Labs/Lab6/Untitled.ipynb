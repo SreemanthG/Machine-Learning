{
 "cells": [
  {
   "cell_type": "markdown",
   "metadata": {},
   "source": [
    "# 18BCE0745 SREEMANTH GOURISHETTY"
   ]
  },
  {
   "cell_type": "markdown",
   "metadata": {},
   "source": [
    "#   a.    Adjacency Matrix"
   ]
  },
  {
   "cell_type": "code",
   "execution_count": 36,
   "metadata": {},
   "outputs": [],
   "source": [
    "import networkx as nx "
   ]
  },
  {
   "cell_type": "code",
   "execution_count": 9,
   "metadata": {},
   "outputs": [
    {
     "name": "stdout",
     "output_type": "stream",
     "text": [
      "1  ->  2  edge weight:  1\n",
      "1  ->  3  edge weight:  1\n",
      "1  ->  4  edge weight:  1\n",
      "2  ->  4  edge weight:  1\n",
      "2  ->  5  edge weight:  1\n",
      "2  ->  3  edge weight:  1\n",
      "3  ->  6  edge weight:  1\n",
      "4  ->  3  edge weight:  1\n",
      "4  ->  6  edge weight:  1\n",
      "4  ->  7  edge weight:  1\n",
      "5  ->  4  edge weight:  1\n",
      "5  ->  7  edge weight:  1\n",
      "7  ->  6  edge weight:  1\n",
      "Internal representation:  {1: [[2, 1], [3, 1], [4, 1]], 2: [[4, 1], [5, 1], [3, 1]], 3: [[6, 1]], 4: [[3, 1], [6, 1], [7, 1]], 5: [[4, 1], [7, 1]], 6: [], 7: [[6, 1]]}\n"
     ]
    }
   ],
   "source": [
    "# Add a vertex to the dictionary\n",
    "def add_vertex(v):\n",
    "  global graph\n",
    "  global vertices_no\n",
    "  if v in graph:\n",
    "    print(\"Vertex \", v, \" already exists.\")\n",
    "  else:\n",
    "    vertices_no = vertices_no + 1\n",
    "    graph[v] = []\n",
    "\n",
    "# Add an edge between vertex v1 and v2 with edge weight e\n",
    "def add_edge(v1, v2, e):\n",
    "  global graph\n",
    "  # Check if vertex v1 is a valid vertex\n",
    "  if v1 not in graph:\n",
    "    print(\"Vertex \", v1, \" does not exist.\")\n",
    "  # Check if vertex v2 is a valid vertex\n",
    "  elif v2 not in graph:\n",
    "    print(\"Vertex \", v2, \" does not exist.\")\n",
    "  else:\n",
    "    # Since this code is not restricted to a directed or \n",
    "    # an undirected graph, an edge between v1 v2 does not\n",
    "    # imply that an edge exists between v2 and v1\n",
    "    temp = [v2, e]\n",
    "    graph[v1].append(temp)\n",
    "\n",
    "# Print the graph\n",
    "def print_graph():\n",
    "  global graph\n",
    "  for vertex in graph:\n",
    "    for edges in graph[vertex]:\n",
    "      print(vertex, \" -> \", edges[0], \" edge weight: \", edges[1])\n",
    "\n",
    "# driver code\n",
    "graph = {}\n",
    "# stores the number of vertices in the graph\n",
    "vertices_no = 0\n",
    "add_vertex(1)\n",
    "add_vertex(2)\n",
    "add_vertex(3)\n",
    "add_vertex(4)\n",
    "add_vertex(5)\n",
    "add_vertex(6)\n",
    "add_vertex(7)\n",
    "\n",
    "# Add the edges between the vertices by specifying\n",
    "# the from and to vertex along with the edge weights.\n",
    "add_edge(1, 2, 1)\n",
    "add_edge(1, 3, 1)\n",
    "add_edge(1, 4, 1)\n",
    "add_edge(2, 4, 1)\n",
    "add_edge(2, 5, 1)\n",
    "add_edge(2, 3, 1)\n",
    "add_edge(3, 6, 1)\n",
    "add_edge(4, 3, 1)\n",
    "add_edge(4, 6, 1)\n",
    "add_edge(4, 7, 1)\n",
    "add_edge(5, 4, 1)\n",
    "add_edge(5, 7, 1)\n",
    "add_edge(7, 6, 1)\n",
    "print_graph()\n",
    "# Reminder: the second element of each list inside the dictionary\n",
    "# denotes the edge weight.\n",
    "print (\"Internal representation: \", graph)"
   ]
  },
  {
   "cell_type": "code",
   "execution_count": 10,
   "metadata": {},
   "outputs": [
    {
     "name": "stdout",
     "output_type": "stream",
     "text": [
      "1  ->  2  edge weight:  1\n",
      "1  ->  3  edge weight:  1\n",
      "1  ->  4  edge weight:  1\n",
      "2  ->  3  edge weight:  1\n",
      "2  ->  4  edge weight:  1\n",
      "2  ->  5  edge weight:  1\n",
      "3  ->  6  edge weight:  1\n",
      "4  ->  3  edge weight:  1\n",
      "4  ->  6  edge weight:  1\n",
      "4  ->  7  edge weight:  1\n",
      "5  ->  4  edge weight:  1\n",
      "5  ->  7  edge weight:  1\n",
      "7  ->  6  edge weight:  1\n",
      "Internal representation:  [[0, 1, 1, 1, 0, 0, 0], [0, 0, 1, 1, 1, 0, 0], [0, 0, 0, 0, 0, 1, 0], [0, 0, 1, 0, 0, 1, 1], [0, 0, 0, 1, 0, 0, 1], [0, 0, 0, 0, 0, 0, 0], [0, 0, 0, 0, 0, 1, 0]]\n"
     ]
    }
   ],
   "source": [
    "# Add a vertex to the set of vertices and the graph\n",
    "def add_vertex(v):\n",
    "  global graph\n",
    "  global vertices_no\n",
    "  global vertices\n",
    "  if v in vertices:\n",
    "    print(\"Vertex \", v, \" already exists\")\n",
    "  else:\n",
    "    vertices_no = vertices_no + 1\n",
    "    vertices.append(v)\n",
    "    if vertices_no > 1:\n",
    "        for vertex in graph:\n",
    "            vertex.append(0)\n",
    "    temp = []\n",
    "    for i in range(vertices_no):\n",
    "        temp.append(0)\n",
    "    graph.append(temp)\n",
    "\n",
    "# Add an edge between vertex v1 and v2 with edge weight e\n",
    "def add_edge(v1, v2, e):\n",
    "    global graph\n",
    "    global vertices_no\n",
    "    global vertices\n",
    "    # Check if vertex v1 is a valid vertex\n",
    "    if v1 not in vertices:\n",
    "        print(\"Vertex \", v1, \" does not exist.\")\n",
    "    # Check if vertex v1 is a valid vertex\n",
    "    elif v2 not in vertices:\n",
    "        print(\"Vertex \", v2, \" does not exist.\")\n",
    "    # Since this code is not restricted to a directed or \n",
    "    # an undirected graph, an edge between v1 v2 does not\n",
    "    # imply that an edge exists between v2 and v1\n",
    "    else:\n",
    "        index1 = vertices.index(v1)\n",
    "        index2 = vertices.index(v2)\n",
    "        graph[index1][index2] = e\n",
    "\n",
    "# Print the graph\n",
    "def print_graph():\n",
    "  global graph\n",
    "  global vertices_no\n",
    "  for i in range(vertices_no):\n",
    "    for j in range(vertices_no):\n",
    "      if graph[i][j] != 0:\n",
    "        print(vertices[i], \" -> \", vertices[j], \\\n",
    "        \" edge weight: \", graph[i][j])\n",
    "\n",
    "# Driver code        \n",
    "# stores the vertices in the graph\n",
    "vertices = []\n",
    "# stores the number of vertices in the graph\n",
    "vertices_no = 0\n",
    "graph = []\n",
    "# Add vertices to the graph\n",
    "add_vertex(1)\n",
    "add_vertex(2)\n",
    "add_vertex(3)\n",
    "add_vertex(4)\n",
    "add_vertex(5)\n",
    "add_vertex(6)\n",
    "add_vertex(7)\n",
    "# Add the edges between the vertices by specifying\n",
    "# the from and to vertex along with the edge weights.\n",
    "add_edge(1, 2, 1)\n",
    "add_edge(1, 3, 1)\n",
    "add_edge(1, 4, 1)\n",
    "add_edge(2, 4, 1)\n",
    "add_edge(2, 5, 1)\n",
    "add_edge(2, 3, 1)\n",
    "add_edge(3, 6, 1)\n",
    "add_edge(4, 3, 1)\n",
    "add_edge(4, 6, 1)\n",
    "add_edge(4, 7, 1)\n",
    "add_edge(5, 4, 1)\n",
    "add_edge(5, 7, 1)\n",
    "add_edge(7, 6, 1)\n",
    "print_graph()\n",
    "print(\"Internal representation: \", graph)"
   ]
  },
  {
   "cell_type": "markdown",
   "metadata": {},
   "source": [
    "# e.    Page rank of all the seven nodes after each iteration"
   ]
  },
  {
   "cell_type": "code",
   "execution_count": 11,
   "metadata": {},
   "outputs": [],
   "source": [
    "import matplotlib.pyplot as plt\n",
    "import networkx as nx\n",
    "\n",
    "#G = nx.Graph()\n",
    "G = nx.DiGraph(Directed=True)\n",
    "\n",
    "G.add_edge(\"1\", \"2\")\n",
    "G.add_edge(\"1\", \"3\")\n",
    "G.add_edge(\"2\", \"4\")\n",
    "G.add_edge(\"2\", \"5\")\n",
    "G.add_edge(\"3\", \"4\")\n",
    "G.add_edge(\"3\", \"6\")\n",
    "G.add_edge(\"4\", \"5\")\n",
    "G.add_edge(\"4\", \"6\")\n",
    "G.add_edge(\"4\", \"7\")\n",
    "G.add_edge(\"5\", \"7\")\n",
    "G.add_edge(\"6\", \"7\")"
   ]
  },
  {
   "cell_type": "code",
   "execution_count": 12,
   "metadata": {},
   "outputs": [
    {
     "data": {
      "text/plain": [
       "{}"
      ]
     },
     "execution_count": 12,
     "metadata": {},
     "output_type": "execute_result"
    },
    {
     "data": {
      "image/png": "[encoded data removed]",
      "text/plain": [
       "<Figure size 720x720 with 1 Axes>"
      ]
     },
     "metadata": {},
     "output_type": "display_data"
    }
   ],
   "source": [
    "pos=nx.spring_layout(G)\n",
    "#pos=nx.planar_layout(G)\n",
    "plt.figure(figsize =(10, 10)) \n",
    "nx.draw_networkx(G,pos)\n",
    "labels = nx.get_edge_attributes(G,'weight')\n",
    "nx.draw_networkx_edge_labels(G,pos,edge_labels=labels)"
   ]
  },
  {
   "cell_type": "code",
   "execution_count": 13,
   "metadata": {
    "scrolled": false
   },
   "outputs": [
    {
     "name": "stdout",
     "output_type": "stream",
     "text": [
      "Node: PageRank\n"
     ]
    },
    {
     "data": {
      "text/plain": [
       "{'1': 0.06270921614934422,\n",
       " '2': 0.08936045577355974,\n",
       " '3': 0.08936045577355974,\n",
       " '4': 0.13866468030257129,\n",
       " '5': 0.13997501666256587,\n",
       " '6': 0.13997501666256587,\n",
       " '7': 0.33995515867583315}"
      ]
     },
     "execution_count": 13,
     "metadata": {},
     "output_type": "execute_result"
    }
   ],
   "source": [
    "pr = nx.pagerank(G, alpha=0.85)\n",
    "print(\"Node: PageRank\")\n",
    "pr"
   ]
  },
  {
   "cell_type": "markdown",
   "metadata": {},
   "source": [
    "# b.    Handling the nodes with no outgoing links"
   ]
  },
  {
   "cell_type": "code",
   "execution_count": 34,
   "metadata": {},
   "outputs": [],
   "source": [
    "for i in graph:\n",
    "    s=0;\n",
    "    for j in i:\n",
    "        s+=j\n",
    "    if(s==0):\n",
    "        graph.remove(i)"
   ]
  },
  {
   "cell_type": "code",
   "execution_count": 35,
   "metadata": {},
   "outputs": [
    {
     "data": {
      "text/plain": [
       "[[0, 1, 1, 1, 0, 0, 0],\n",
       " [0, 0, 1, 1, 1, 0, 0],\n",
       " [0, 0, 0, 0, 0, 1, 0],\n",
       " [0, 0, 1, 0, 0, 1, 1],\n",
       " [0, 0, 0, 1, 0, 0, 1],\n",
       " [0, 0, 0, 0, 0, 1, 0]]"
      ]
     },
     "execution_count": 35,
     "metadata": {},
     "output_type": "execute_result"
    }
   ],
   "source": [
    "graph"
   ]
  },
  {
   "cell_type": "markdown",
   "metadata": {},
   "source": [
    "# c.    Stochastic matrix formation"
   ]
  },
  {
   "cell_type": "code",
   "execution_count": 20,
   "metadata": {},
   "outputs": [
    {
     "data": {
      "image/png": "[encoded data removed]",
      "text/plain": [
       "<Figure size 432x288 with 1 Axes>"
      ]
     },
     "metadata": {},
     "output_type": "display_data"
    }
   ],
   "source": [
    "stochasticMatrix = nx.stochastic_graph(G)\n",
    "nx.draw(stochasticMatrix)[[0, 1, 1, 1, 0, 0, 0],\n",
    " [0, 0, 1, 1, 1, 0, 0],\n",
    " [0, 0, 0, 0, 0, 1, 0],\n",
    " [0, 0, 1, 0, 0, 1, 1],\n",
    " [0, 0, 0, 1, 0, 0, 1],\n",
    " [0, 0, 0, 0, 0, 1, 0]]\n"
   ]
  },
  {
   "cell_type": "code",
   "execution_count": 39,
   "metadata": {},
   "outputs": [
    {
     "ename": "NetworkXNoCycle",
     "evalue": "No cycle found.",
     "output_type": "error",
     "traceback": [
      "\u001b[1;31m---------------------------------------------------------------------------\u001b[0m",
      "\u001b[1;31mNetworkXNoCycle\u001b[0m                           Traceback (most recent call last)",
      "\u001b[1;32m<ipython-input-39-3b0108b71d6d>\u001b[0m in \u001b[0;36m<module>\u001b[1;34m\u001b[0m\n\u001b[1;32m----> 1\u001b[1;33m \u001b[0mnx\u001b[0m\u001b[1;33m.\u001b[0m\u001b[0mfind_cycle\u001b[0m\u001b[1;33m(\u001b[0m\u001b[0mG\u001b[0m\u001b[1;33m,\u001b[0m \u001b[0msource\u001b[0m\u001b[1;33m=\u001b[0m\u001b[1;32mNone\u001b[0m\u001b[1;33m)\u001b[0m\u001b[1;33m\u001b[0m\u001b[1;33m\u001b[0m\u001b[0m\n\u001b[0m",
      "\u001b[1;32mC:\\Users\\Sreemanth\\anaconda3\\lib\\site-packages\\networkx\\algorithms\\cycles.py\u001b[0m in \u001b[0;36mfind_cycle\u001b[1;34m(G, source, orientation)\u001b[0m\n\u001b[0;32m    489\u001b[0m     \u001b[1;32melse\u001b[0m\u001b[1;33m:\u001b[0m\u001b[1;33m\u001b[0m\u001b[1;33m\u001b[0m\u001b[0m\n\u001b[0;32m    490\u001b[0m         \u001b[1;32massert\u001b[0m\u001b[1;33m(\u001b[0m\u001b[0mlen\u001b[0m\u001b[1;33m(\u001b[0m\u001b[0mcycle\u001b[0m\u001b[1;33m)\u001b[0m \u001b[1;33m==\u001b[0m \u001b[1;36m0\u001b[0m\u001b[1;33m)\u001b[0m\u001b[1;33m\u001b[0m\u001b[1;33m\u001b[0m\u001b[0m\n\u001b[1;32m--> 491\u001b[1;33m         \u001b[1;32mraise\u001b[0m \u001b[0mnx\u001b[0m\u001b[1;33m.\u001b[0m\u001b[0mexception\u001b[0m\u001b[1;33m.\u001b[0m\u001b[0mNetworkXNoCycle\u001b[0m\u001b[1;33m(\u001b[0m\u001b[1;34m'No cycle found.'\u001b[0m\u001b[1;33m)\u001b[0m\u001b[1;33m\u001b[0m\u001b[1;33m\u001b[0m\u001b[0m\n\u001b[0m\u001b[0;32m    492\u001b[0m \u001b[1;33m\u001b[0m\u001b[0m\n\u001b[0;32m    493\u001b[0m     \u001b[1;31m# We now have a list of edges which ends on a cycle.\u001b[0m\u001b[1;33m\u001b[0m\u001b[1;33m\u001b[0m\u001b[1;33m\u001b[0m\u001b[0m\n",
      "\u001b[1;31mNetworkXNoCycle\u001b[0m: No cycle found."
     ]
    }
   ],
   "source": [
    "nx.find_cycle(G, source=None)"
   ]
  },
  {
   "cell_type": "code",
   "execution_count": 19,
   "metadata": {},
   "outputs": [
    {
     "data": {
      "text/plain": [
       "<networkx.classes.digraph.DiGraph at 0x272f5e256c8>"
      ]
     },
     "execution_count": 19,
     "metadata": {},
     "output_type": "execute_result"
    }
   ],
   "source": []
  },
  {
   "cell_type": "code",
   "execution_count": null,
   "metadata": {},
   "outputs": [],
   "source": []
  }
 ],
 "metadata": {
  "kernelspec": {
   "display_name": "Python 3",
   "language": "python",
   "name": "python3"
  },
  "language_info": {
   "codemirror_mode": {
    "name": "ipython",
    "version": 3
   },
   "file_extension": ".py",
   "mimetype": "text/x-python",
   "name": "python",
   "nbconvert_exporter": "python",
   "pygments_lexer": "ipython3",
   "version": "3.7.6"
  }
 },
 "nbformat": 4,
 "nbformat_minor": 4
}
